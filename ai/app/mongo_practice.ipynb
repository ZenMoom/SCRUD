{
 "cells": [
  {
   "cell_type": "code",
   "id": "initial_id",
   "metadata": {
    "collapsed": true,
    "ExecuteTime": {
     "end_time": "2025-05-10T06:54:50.463770Z",
     "start_time": "2025-05-10T06:54:50.450194Z"
    }
   },
   "source": [
    "import nest_asyncio\n",
    "nest_asyncio.apply()\n"
   ],
   "outputs": [],
   "execution_count": 4
  },
  {
   "metadata": {
    "ExecuteTime": {
     "end_time": "2025-05-10T06:55:04.685553Z",
     "start_time": "2025-05-10T06:55:04.609068Z"
    }
   },
   "cell_type": "code",
   "source": [
    "from pydantic import BaseModel\n",
    "import asyncio\n",
    "from typing import Optional\n",
    "from app.infrastructure.mongodb.repository.mongo_repository_impl import MongoRepositoryImpl\n",
    "\n",
    "# 예시 모델 클래스\n",
    "class User(BaseModel):\n",
    "    _id: Optional[str] = None\n",
    "    username: str\n",
    "    email: str\n",
    "    age: int\n",
    "\n",
    "\n",
    "# 저장소 초기화\n",
    "user_repo = MongoRepositoryImpl(\"scrud\", User)\n",
    "# user_repo = MongoMockRepository(User)\n",
    "\n",
    "# 문서 삽입\n",
    "user1 = User(username=\"user1\", email=\"user1@example.com\", age=25)\n",
    "user_id = await user_repo.insert_one(user1)\n",
    "print(f\"Inserted user with ID: {user_id}\")\n",
    "\n",
    "\n"
   ],
   "id": "3b79152889d5b6b7",
   "outputs": [
    {
     "name": "stdout",
     "output_type": "stream",
     "text": [
      "Inserted user with ID: 681ef848645bbb790814c44f\n"
     ]
    },
    {
     "name": "stderr",
     "output_type": "stream",
     "text": [
      "C:\\Users\\SSAFY\\AppData\\Local\\Temp\\ipykernel_10916\\4214233430.py:20: RuntimeWarning: coroutine 'MongoRepositoryImpl.insert_one' was never awaited\n",
      "  user_id = await user_repo.insert_one(user1)\n",
      "RuntimeWarning: Enable tracemalloc to get the object allocation traceback\n"
     ]
    }
   ],
   "execution_count": 7
  },
  {
   "metadata": {
    "ExecuteTime": {
     "end_time": "2025-05-10T06:55:41.245004Z",
     "start_time": "2025-05-10T06:55:41.176786Z"
    }
   },
   "cell_type": "code",
   "source": [
    "\n",
    "# 문서 조회\n",
    "found_user = await user_repo.find_one({\"username\": \"user1\"})\n",
    "print(f\"Found user: {found_user}\")\n"
   ],
   "id": "80565feed0968d4e",
   "outputs": [
    {
     "name": "stdout",
     "output_type": "stream",
     "text": [
      "Found user: username='user1' email='user1@example.com' age=25\n"
     ]
    }
   ],
   "execution_count": 11
  },
  {
   "metadata": {
    "ExecuteTime": {
     "end_time": "2025-05-10T06:56:32.443246Z",
     "start_time": "2025-05-10T06:56:32.388165Z"
    }
   },
   "cell_type": "code",
   "source": [
    "\n",
    "# 문서 업데이트\n",
    "updated = await user_repo.update_one(\n",
    "    {\"username\": \"user1\"},\n",
    "    {\"$set\": {\"age\": 26}}\n",
    ")\n",
    "print(f\"Update successful: {updated}\")\n"
   ],
   "id": "50796bc8449c5af5",
   "outputs": [
    {
     "name": "stdout",
     "output_type": "stream",
     "text": [
      "Update successful: True\n"
     ]
    },
    {
     "name": "stderr",
     "output_type": "stream",
     "text": [
      "C:\\Users\\SSAFY\\AppData\\Local\\Temp\\ipykernel_10916\\1179627788.py:2: RuntimeWarning: coroutine 'MongoRepositoryImpl.update_one' was never awaited\n",
      "  updated = await user_repo.update_one(\n",
      "RuntimeWarning: Enable tracemalloc to get the object allocation traceback\n"
     ]
    }
   ],
   "execution_count": 14
  },
  {
   "metadata": {
    "ExecuteTime": {
     "end_time": "2025-05-10T06:57:12.302681Z",
     "start_time": "2025-05-10T06:57:12.249250Z"
    }
   },
   "cell_type": "code",
   "source": [
    "nest_asyncio.apply()\n",
    "# 업데이트 확인\n",
    "updated_user = await user_repo.find_one({\"username\": \"user1\"})\n",
    "print(f\"Updated user: {updated_user}\")\n",
    "\n"
   ],
   "id": "92a9af0154ee716f",
   "outputs": [
    {
     "name": "stdout",
     "output_type": "stream",
     "text": [
      "Updated user: username='user1' email='user1@example.com' age=26\n"
     ]
    }
   ],
   "execution_count": 16
  },
  {
   "metadata": {
    "ExecuteTime": {
     "end_time": "2025-05-10T06:57:48.922598Z",
     "start_time": "2025-05-10T06:57:48.718617Z"
    }
   },
   "cell_type": "code",
   "source": [
    "# 문서 삭제\n",
    "deleted = await user_repo.delete_one({\"username\": \"user1\"})\n",
    "print(f\"Delete successful: {deleted}\")\n",
    "\n",
    "# 삭제 확인\n",
    "no_user = await user_repo.find_one({\"username\": \"user1\"})\n",
    "print(f\"User after deletion: {no_user}\")"
   ],
   "id": "f028955559534de8",
   "outputs": [
    {
     "name": "stdout",
     "output_type": "stream",
     "text": [
      "Delete successful: True\n",
      "User after deletion: None\n",
      "Delete successful: False\n",
      "User after deletion: None\n"
     ]
    }
   ],
   "execution_count": 17
  },
  {
   "metadata": {},
   "cell_type": "code",
   "outputs": [],
   "execution_count": null,
   "source": "",
   "id": "76f92684949f6a41"
  }
 ],
 "metadata": {
  "kernelspec": {
   "display_name": "Python 3",
   "language": "python",
   "name": "python3"
  },
  "language_info": {
   "codemirror_mode": {
    "name": "ipython",
    "version": 2
   },
   "file_extension": ".py",
   "mimetype": "text/x-python",
   "name": "python",
   "nbconvert_exporter": "python",
   "pygments_lexer": "ipython2",
   "version": "2.7.6"
  }
 },
 "nbformat": 4,
 "nbformat_minor": 5
}
